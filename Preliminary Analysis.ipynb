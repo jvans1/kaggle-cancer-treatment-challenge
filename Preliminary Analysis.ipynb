{
 "cells": [
  {
   "cell_type": "markdown",
   "metadata": {},
   "source": [
    "# Useful things to know:\n",
    "* number of classes\n",
    "* unique class numbers\n",
    "* number of genes\n",
    "* co-occurence of gene and mutation class\n",
    "* mutations that have / don't have a number (Truncating mutation /deletion vs A707T)"
   ]
  },
  {
   "cell_type": "code",
   "execution_count": 162,
   "metadata": {
    "collapsed": false
   },
   "outputs": [
    {
     "name": "stdout",
     "output_type": "stream",
     "text": [
      "Total rows: 3322\n",
      "Total genes: 264\n",
      "Total variations: 2996\n"
     ]
    }
   ],
   "source": [
    "import utils as U\n",
    "reload(U)\n",
    "\n",
    "genes = {}\n",
    "classes = []\n",
    "variations = {}\n",
    "total = 0\n",
    "res = U.load_csv('data/train/training_variants')\n",
    "for _id, gene,variation,mutation_class in res:\n",
    "    total += 1\n",
    "    if total == 1:\n",
    "        continue\n",
    "    if variation in variations:\n",
    "        variations[variation] +=1\n",
    "    else:\n",
    "        variations[variation] = 1\n",
    "    classes.append(int(mutation_class))\n",
    "    if gene in genes:\n",
    "        genes[gene] +=1\n",
    "    else:\n",
    "        genes[gene] = 1\n",
    "print(\"Total rows: \"+str(total))\n",
    "print(\"Total genes: \"+ str(len(genes.keys())))\n",
    "print(\"Total variations: \"+ str(len(variations.keys())))"
   ]
  },
  {
   "cell_type": "code",
   "execution_count": 82,
   "metadata": {
    "collapsed": true
   },
   "outputs": [],
   "source": [
    "import numpy as np\n",
    "import matplotlib.mlab as mlab\n",
    "import matplotlib.pyplot as plt\n",
    "%matplotlib inline"
   ]
  },
  {
   "cell_type": "code",
   "execution_count": 150,
   "metadata": {
    "collapsed": false
   },
   "outputs": [
    {
     "data": {
      "text/plain": [
       "<matplotlib.text.Text at 0x121fb8f50>"
      ]
     },
     "execution_count": 150,
     "metadata": {},
     "output_type": "execute_result"
    },
    {
     "data": {
      "image/png": "[encoded data removed]",
      "text/plain": [
       "<matplotlib.figure.Figure at 0x121f17c90>"
      ]
     },
     "metadata": {},
     "output_type": "display_data"
    }
   ],
   "source": [
    "fig, ax = plt.subplots(figsize=(10,10))\n",
    "n, bins, patches = ax.hist(classes, bins=list(range(1,11)), normed=True, rwidth=0.8, align='left')\n",
    "plt.xticks(list(range(1,10)))\n",
    "ax.set_xlabel('Mutation Class')\n",
    "ax.set_ylabel('Percent of total')\n",
    "ax.set_title('Mutation Class Percentages')"
   ]
  },
  {
   "cell_type": "code",
   "execution_count": 42,
   "metadata": {
    "collapsed": false
   },
   "outputs": [
    {
     "data": {
      "text/plain": [
       "0.81649658092772603"
      ]
     },
     "execution_count": 42,
     "metadata": {},
     "output_type": "execute_result"
    }
   ],
   "source": []
  },
  {
   "cell_type": "code",
   "execution_count": null,
   "metadata": {
    "collapsed": true
   },
   "outputs": [],
   "source": []
  }
 ],
 "metadata": {
  "kernelspec": {
   "display_name": "Python 2",
   "language": "python",
   "name": "python2"
  },
  "language_info": {
   "codemirror_mode": {
    "name": "ipython",
    "version": 2
   },
   "file_extension": ".py",
   "mimetype": "text/x-python",
   "name": "python",
   "nbconvert_exporter": "python",
   "pygments_lexer": "ipython2",
   "version": "2.7.13"
  }
 },
 "nbformat": 4,
 "nbformat_minor": 2
}
